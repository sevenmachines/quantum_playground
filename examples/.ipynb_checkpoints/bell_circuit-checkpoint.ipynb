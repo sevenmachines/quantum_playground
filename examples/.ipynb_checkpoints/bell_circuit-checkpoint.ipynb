{
 "cells": [
  {
   "cell_type": "markdown",
   "metadata": {},
   "source": [
    "### Setting up the python environment and braket libraries"
   ]
  },
  {
   "cell_type": "code",
   "execution_count": 15,
   "metadata": {},
   "outputs": [],
   "source": [
    "import boto3\n",
    "from braket.aws import AwsQuantumSimulator, AwsQuantumSimulatorArns, AwsSession\n",
    "from braket.circuits import Circuit"
   ]
  },
  {
   "cell_type": "markdown",
   "metadata": {},
   "source": [
    "## Setting up the session to get a quantum simulator in a supported region"
   ]
  },
  {
   "cell_type": "code",
   "execution_count": null,
   "metadata": {},
   "outputs": [],
   "source": [
    "supported_region = 'us-west-1' # One of us-west-1, us-west-2, us-east-1\n",
    "boto_session = boto3.session.Session(region_name=supported_region)\n",
    "aws_session = AwsSession(boto_session=boto_session)\n",
    "print(session)\n",
    "# Sets the AWS Account ID using STS\n",
    "aws_account_id = session.client(\"sts\").get_caller_identity()[\"Account\"]\n",
    "\n",
    "# Sets the quantum device to run the circuit on\n",
    "device = AwsQuantumSimulator(AwsQuantumSimulatorArns.QS1, aws_session=aws_session)\n",
    "\n",
    "# Specifies the S3 bucket to use for job output\n",
    "s3_folder = (f\"braket-output-{aws_account_id}\", \"folder-name\")\n",
    "\n",
    "\n",
    "\n"
   ]
  },
  {
   "cell_type": "code",
   "execution_count": 18,
   "metadata": {},
   "outputs": [],
   "source": [
    "\n",
    "# Creates the circuit (https://wikipedia.org/wiki/Bell_state)\n",
    "bell = Circuit().h(0).cnot(0, 1)\n"
   ]
  },
  {
   "cell_type": "code",
   "execution_count": 19,
   "metadata": {},
   "outputs": [
    {
     "name": "stdout",
     "output_type": "stream",
     "text": [
      "Counter({'00': 514, '11': 486})\n"
     ]
    }
   ],
   "source": [
    "\n",
    "# Executes the circuit and displays the results\n",
    "print(device.run(bell, s3_folder).result().measurement_counts)"
   ]
  },
  {
   "cell_type": "code",
   "execution_count": null,
   "metadata": {},
   "outputs": [],
   "source": []
  },
  {
   "cell_type": "code",
   "execution_count": null,
   "metadata": {},
   "outputs": [],
   "source": []
  }
 ],
 "metadata": {
  "kernelspec": {
   "display_name": "Python 3",
   "language": "python",
   "name": "python3"
  },
  "language_info": {
   "codemirror_mode": {
    "name": "ipython",
    "version": 3
   },
   "file_extension": ".py",
   "mimetype": "text/x-python",
   "name": "python",
   "nbconvert_exporter": "python",
   "pygments_lexer": "ipython3",
   "version": "3.7.6"
  }
 },
 "nbformat": 4,
 "nbformat_minor": 4
}
